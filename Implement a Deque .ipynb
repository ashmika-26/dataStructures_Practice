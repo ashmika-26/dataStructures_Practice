{
 "cells": [
  {
   "cell_type": "markdown",
   "metadata": {},
   "source": [
    "# Implement a Deque \n",
    "\n",
    "Finally, implement a Deque class! It should be able to do the following:\n",
    "\n",
    "* Check if its empty\n",
    "* Add to both front and rear\n",
    "* Remove from Front and Rear\n",
    "* Check the Size"
   ]
  },
  {
   "cell_type": "code",
   "execution_count": 3,
   "metadata": {},
   "outputs": [],
   "source": [
    "class Deque(object):\n",
    "    def __init__(self):\n",
    "        self.items = []\n",
    "    def AddFront(self,item):\n",
    "        self.items.append(item)\n",
    "    def AddRear(self,item):\n",
    "        self.items.insert(0,item)\n",
    "    def RemoveFront(self):\n",
    "        return self.items.pop()\n",
    "    def RemoveRear(self):\n",
    "        return self.items.pop(0)\n",
    "    def size(self):\n",
    "        return len(self.items)    "
   ]
  },
  {
   "cell_type": "code",
   "execution_count": 4,
   "metadata": {},
   "outputs": [
    {
     "data": {
      "text/plain": [
       "8"
      ]
     },
     "execution_count": 4,
     "metadata": {},
     "output_type": "execute_result"
    }
   ],
   "source": [
    "D=Deque()\n",
    "D.AddFront(5)\n",
    "D.AddFront(7)\n",
    "D.AddRear(8)\n",
    "D.RemoveRear()"
   ]
  },
  {
   "cell_type": "code",
   "execution_count": null,
   "metadata": {},
   "outputs": [],
   "source": []
  }
 ],
 "metadata": {
  "kernelspec": {
   "display_name": "Python 3",
   "language": "python",
   "name": "python3"
  },
  "language_info": {
   "codemirror_mode": {
    "name": "ipython",
    "version": 3
   },
   "file_extension": ".py",
   "mimetype": "text/x-python",
   "name": "python",
   "nbconvert_exporter": "python",
   "pygments_lexer": "ipython3",
   "version": "3.8.2"
  }
 },
 "nbformat": 4,
 "nbformat_minor": 1
}
