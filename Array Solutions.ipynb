{
 "cells": [
  {
   "cell_type": "code",
   "execution_count": null,
   "metadata": {},
   "outputs": [],
   "source": [
    "#SENTENCE REVERSAL\n",
    "def reversal(s):\n",
    "    words=[]\n",
    "    length=len(s)\n",
    "    spaces=[' ']\n",
    "    i=0\n",
    "    while i<length:\n",
    "        if s[i] not in spaces:\n",
    "            word_start=i\n",
    "            while i<length and s[i] not in spaces:\n",
    "                i+=1\n",
    "            words.append(s[word_start:i])\n",
    "        i+=1\n",
    "    return (\" \".join(reverse_words(words)))\n",
    "\n",
    "def reverse_words(arr):\n",
    "    \n",
    "    arr=arr[::-1]\n",
    "    return (arr)\n",
    "reversal('Hi John,   are you ready to go?')"
   ]
  },
  {
   "cell_type": "code",
   "execution_count": 20,
   "metadata": {},
   "outputs": [
    {
     "data": {
      "text/plain": [
       "30"
      ]
     },
     "execution_count": 20,
     "metadata": {},
     "output_type": "execute_result"
    }
   ],
   "source": [
    "#LARGEST CONTINIOUS SUM\n",
    "def largest_sum(arr):\n",
    "    if len(arr)==0:\n",
    "        return 0\n",
    "    max_sum=cur_sum=arr[0]\n",
    "    for num in arr[1:]:\n",
    "        cur_sum = max(cur_sum+num,num)\n",
    "        max_sum = max(max_sum,cur_sum)\n",
    "    return max_sum\n",
    "largest_sum([1,-1,2,3,5,10,10,-10])"
   ]
  },
  {
   "cell_type": "code",
   "execution_count": 25,
   "metadata": {},
   "outputs": [
    {
     "data": {
      "text/plain": [
       "'A1B1C1a1b1c1'"
      ]
     },
     "execution_count": 25,
     "metadata": {},
     "output_type": "execute_result"
    }
   ],
   "source": [
    "#STRING COMPRESSION\n",
    "def compressed(s):\n",
    "    r=\"\"\n",
    "    l=len(s)\n",
    "    if len==0:\n",
    "        return 0\n",
    "    if len==1:\n",
    "        return s[0]+\"1\"\n",
    "    last = s[0]\n",
    "    i,count=1,1\n",
    "    while i<l:\n",
    "        if s[i] == s[i-1]:\n",
    "            count+=1\n",
    "        else:\n",
    "            r=r+s[i-1]+str(count)\n",
    "            count=1\n",
    "        i+=1\n",
    "    r=r+s[i-1]+str(count)\n",
    "    return r\n",
    "\n",
    "compressed(\"ABCabc\")"
   ]
  },
  {
   "cell_type": "code",
   "execution_count": 26,
   "metadata": {},
   "outputs": [
    {
     "data": {
      "text/plain": [
       "'A1B3'"
      ]
     },
     "execution_count": 26,
     "metadata": {},
     "output_type": "execute_result"
    }
   ],
   "source": [
    "compressed(\"ABBB\")"
   ]
  },
  {
   "cell_type": "code",
   "execution_count": 30,
   "metadata": {},
   "outputs": [
    {
     "data": {
      "text/plain": [
       "False"
      ]
     },
     "execution_count": 30,
     "metadata": {},
     "output_type": "execute_result"
    }
   ],
   "source": [
    "#UNIQUE STRING\n",
    "def uni_char(s):\n",
    "    chars=set()\n",
    "    for let in s:\n",
    "        if let in chars:\n",
    "            return False\n",
    "        else:\n",
    "            chars.add(let)\n",
    "    return True\n",
    "uni_char(\"ABCHEDIAAA\")"
   ]
  },
  {
   "cell_type": "code",
   "execution_count": 42,
   "metadata": {},
   "outputs": [
    {
     "data": {
      "text/plain": [
       "True"
      ]
     },
     "execution_count": 42,
     "metadata": {},
     "output_type": "execute_result"
    }
   ],
   "source": [
    "#Anagram Checker\n",
    "\n",
    "def anagram1(s1,s2):\n",
    "    s1=s1.replace(\" \",\"\").lower()\n",
    "    s2=s2.replace(\" \",\"\").lower()\n",
    "    if len(s1)!=len(s2):\n",
    "        return False\n",
    "    count={}\n",
    "    for char in s1:\n",
    "        if char in count:\n",
    "            count[char]+=1\n",
    "        else:\n",
    "            count[char]=1\n",
    "    for char in s2:\n",
    "        if char in count:\n",
    "            count[char]-=1\n",
    "        else:\n",
    "            count[char]=1\n",
    "    for k in count:\n",
    "        if count[k]!=0:\n",
    "            return False\n",
    "    return True\n",
    "\n",
    "anagram1(\"dog \",\"GOD\")\n",
    "\n",
    "\n",
    "    \n"
   ]
  },
  {
   "cell_type": "code",
   "execution_count": 48,
   "metadata": {},
   "outputs": [
    {
     "data": {
      "text/plain": [
       "True"
      ]
     },
     "execution_count": 48,
     "metadata": {},
     "output_type": "execute_result"
    }
   ],
   "source": [
    "from collections import defaultdict,Counter\n",
    "def anagram2(s1,s2):\n",
    "    s1=s1.replace(\" \",\"\").lower()\n",
    "    s2=s2.replace(\" \",\"\").lower()\n",
    "    freq1=defaultdict(int)\n",
    "    freq2=defaultdict(int)\n",
    "    for char in s1:\n",
    "        freq1[char]+=1\n",
    "    for char in s2:\n",
    "        freq2[char]+=1\n",
    "    \n",
    "    return freq1==freq2\n",
    "\n",
    "#anagram2(\"abcabcabcabcc\",\"abcabcabcabc\")\n",
    "\n",
    "def anagram3(s1,s2):\n",
    "    s1=s1.replace(\" \",\"\").lower()\n",
    "    s2=s2.replace(\" \",\"\").lower()\n",
    "    return Counter(s1)==Counter(s2)\n",
    "anagram3(\"GOD\",\"dog\")\n",
    "    "
   ]
  },
  {
   "cell_type": "code",
   "execution_count": null,
   "metadata": {},
   "outputs": [],
   "source": []
  }
 ],
 "metadata": {
  "kernelspec": {
   "display_name": "Python 3",
   "language": "python",
   "name": "python3"
  },
  "language_info": {
   "codemirror_mode": {
    "name": "ipython",
    "version": 3
   },
   "file_extension": ".py",
   "mimetype": "text/x-python",
   "name": "python",
   "nbconvert_exporter": "python",
   "pygments_lexer": "ipython3",
   "version": "3.8.2"
  }
 },
 "nbformat": 4,
 "nbformat_minor": 4
}
